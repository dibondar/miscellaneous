{
 "cells": [
  {
   "cell_type": "markdown",
   "metadata": {},
   "source": [
    "# Formation of Cooper pair (or Bardeen–Cooper–Schrieffer pair): A naive model"
   ]
  },
  {
   "cell_type": "code",
   "execution_count": 1,
   "metadata": {},
   "outputs": [],
   "source": [
    "from sympy import symbols, Matrix, hessian, diag, Rational, re\n",
    "import numpy as np\n",
    "import matplotlib.pyplot as plt"
   ]
  },
  {
   "cell_type": "markdown",
   "metadata": {},
   "source": [
    "# nuclei"
   ]
  },
  {
   "cell_type": "code",
   "execution_count": 2,
   "metadata": {},
   "outputs": [],
   "source": [
    "X = Matrix(symbols(\"X1 X2 X3\"))"
   ]
  },
  {
   "cell_type": "code",
   "execution_count": 3,
   "metadata": {},
   "outputs": [],
   "source": [
    "U_nuclei = 0\n",
    "\n",
    "for n in range(len(X) - 1):\n",
    "    U_nuclei += (X[n] - X[n+1]) ** 2 / 2\n",
    "    \n",
    "# periodic boundary\n",
    "U_nuclei += (X[0] - X[-1]) ** 2 / 2"
   ]
  },
  {
   "cell_type": "markdown",
   "metadata": {},
   "source": [
    "ponetial energy for nuclei as harmonic oscilator "
   ]
  },
  {
   "cell_type": "code",
   "execution_count": 4,
   "metadata": {},
   "outputs": [
    {
     "data": {
      "text/latex": [
       "$\\displaystyle \\frac{\\left(X_{1} - X_{2}\\right)^{2}}{2} + \\frac{\\left(X_{1} - X_{3}\\right)^{2}}{2} + \\frac{\\left(X_{2} - X_{3}\\right)^{2}}{2}$"
      ],
      "text/plain": [
       "(X1 - X2)**2/2 + (X1 - X3)**2/2 + (X2 - X3)**2/2"
      ]
     },
     "execution_count": 4,
     "metadata": {},
     "output_type": "execute_result"
    }
   ],
   "source": [
    "U_nuclei"
   ]
  },
  {
   "cell_type": "markdown",
   "metadata": {},
   "source": [
    "RHS fo Newton's equation"
   ]
  },
  {
   "cell_type": "code",
   "execution_count": 5,
   "metadata": {},
   "outputs": [
    {
     "data": {
      "text/latex": [
       "$\\displaystyle \\left[\\begin{matrix}2 X_{1} - X_{2} - X_{3}\\\\- X_{1} + 2 X_{2} - X_{3}\\\\- X_{1} - X_{2} + 2 X_{3}\\end{matrix}\\right]$"
      ],
      "text/plain": [
       "Matrix([\n",
       "[ 2*X1 - X2 - X3],\n",
       "[-X1 + 2*X2 - X3],\n",
       "[-X1 - X2 + 2*X3]])"
      ]
     },
     "execution_count": 5,
     "metadata": {},
     "output_type": "execute_result"
    }
   ],
   "source": [
    "hessian(U_nuclei, X) @ X"
   ]
  },
  {
   "cell_type": "code",
   "execution_count": 6,
   "metadata": {},
   "outputs": [],
   "source": [
    "#plt.plot(np.sort(np.linalg.eigvals(np.array(hessian(U_nuclei, X), np.float))), '*')"
   ]
  },
  {
   "cell_type": "markdown",
   "metadata": {},
   "source": [
    "# Electron-phonon coupling "
   ]
  },
  {
   "cell_type": "code",
   "execution_count": 7,
   "metadata": {},
   "outputs": [],
   "source": [
    "x = symbols(\"x1 x2\")\n",
    "V = symbols(\"V\")"
   ]
  },
  {
   "cell_type": "code",
   "execution_count": 8,
   "metadata": {},
   "outputs": [],
   "source": [
    "U_total = U_nuclei \\\n",
    "    +  V * (x[0] - X[0]) ** 2 / 2 + V * (x[1] - X[-1]) ** 2 / 2 - 0.1*(x[0] - x[1]) ** 2 /2"
   ]
  },
  {
   "cell_type": "code",
   "execution_count": 9,
   "metadata": {},
   "outputs": [
    {
     "data": {
      "text/latex": [
       "$\\displaystyle \\frac{V \\left(- X_{1} + x_{1}\\right)^{2}}{2} + \\frac{V \\left(- X_{3} + x_{2}\\right)^{2}}{2} + \\frac{\\left(X_{1} - X_{2}\\right)^{2}}{2} + \\frac{\\left(X_{1} - X_{3}\\right)^{2}}{2} + \\frac{\\left(X_{2} - X_{3}\\right)^{2}}{2} - 0.05 \\left(x_{1} - x_{2}\\right)^{2}$"
      ],
      "text/plain": [
       "V*(-X1 + x1)**2/2 + V*(-X3 + x2)**2/2 + (X1 - X2)**2/2 + (X1 - X3)**2/2 + (X2 - X3)**2/2 - 0.05*(x1 - x2)**2"
      ]
     },
     "execution_count": 9,
     "metadata": {},
     "output_type": "execute_result"
    }
   ],
   "source": [
    "U_total"
   ]
  },
  {
   "cell_type": "code",
   "execution_count": 10,
   "metadata": {},
   "outputs": [
    {
     "data": {
      "text/latex": [
       "$\\displaystyle \\left[\\begin{matrix}0.001 & 0 & 0 & 0 & 0\\\\0 & 0.001 & 0 & 0 & 0\\\\0 & 0 & 0.001 & 0 & 0\\\\0 & 0 & 0 & 1 & 0\\\\0 & 0 & 0 & 0 & 1\\end{matrix}\\right]$"
      ],
      "text/plain": [
       "Matrix([\n",
       "[0.001,     0,     0, 0, 0],\n",
       "[    0, 0.001,     0, 0, 0],\n",
       "[    0,     0, 0.001, 0, 0],\n",
       "[    0,     0,     0, 1, 0],\n",
       "[    0,     0,     0, 0, 1]])"
      ]
     },
     "execution_count": 10,
     "metadata": {},
     "output_type": "execute_result"
    }
   ],
   "source": [
    "Mass_inv  = diag(*(0.001 for _ in X), *(1 for _ in x) )\n",
    "Mass_inv"
   ]
  },
  {
   "cell_type": "code",
   "execution_count": 11,
   "metadata": {},
   "outputs": [],
   "source": [
    "RHS_Newton = Mass_inv @ hessian(U_total, list(X) + list(x))"
   ]
  },
  {
   "cell_type": "code",
   "execution_count": 12,
   "metadata": {},
   "outputs": [],
   "source": [
    "v = np.linspace(0.15, 0.3, 100)"
   ]
  },
  {
   "cell_type": "code",
   "execution_count": 13,
   "metadata": {},
   "outputs": [],
   "source": [
    "lowest_omega = [\n",
    "    np.linalg.eigvals(np.array(RHS_Newton.subs({V:val}), np.float)).min() \n",
    "    for val in v \n",
    "]"
   ]
  },
  {
   "cell_type": "code",
   "execution_count": 20,
   "metadata": {},
   "outputs": [
    {
     "name": "stdout",
     "output_type": "stream",
     "text": [
      "critical V =  0.15\n"
     ]
    },
    {
     "data": {
      "image/png": "[encoded data removed]",
      "text/plain": [
       "<Figure size 432x288 with 1 Axes>"
      ]
     },
     "metadata": {
      "needs_background": "light"
     },
     "output_type": "display_data"
    }
   ],
   "source": [
    "plt.plot(v, lowest_omega)\n",
    "plt.xlabel('$V$')\n",
    "plt.ylabel('Minimal $\\omega^2$')\n",
    "print(\"critical V = \", v[np.argmin(np.array(lowest_omega) <=  1e-17)])"
   ]
  },
  {
   "cell_type": "code",
   "execution_count": null,
   "metadata": {},
   "outputs": [],
   "source": []
  }
 ],
 "metadata": {
  "kernelspec": {
   "display_name": "Python 3",
   "language": "python",
   "name": "python3"
  },
  "language_info": {
   "codemirror_mode": {
    "name": "ipython",
    "version": 3
   },
   "file_extension": ".py",
   "mimetype": "text/x-python",
   "name": "python",
   "nbconvert_exporter": "python",
   "pygments_lexer": "ipython3",
   "version": "3.8.5"
  }
 },
 "nbformat": 4,
 "nbformat_minor": 4
}

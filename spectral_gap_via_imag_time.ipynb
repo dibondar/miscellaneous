{
 "cells": [
  {
   "cell_type": "code",
   "execution_count": null,
   "metadata": {},
   "outputs": [],
   "source": []
  },
  {
   "cell_type": "code",
   "execution_count": 11,
   "metadata": {},
   "outputs": [],
   "source": [
    "from scipy import fftpack, linalg\n",
    "import numpy as np\n",
    "import matplotlib.pyplot as plt"
   ]
  },
  {
   "cell_type": "markdown",
   "metadata": {},
   "source": [
    "## Specify parameters "
   ]
  },
  {
   "cell_type": "code",
   "execution_count": 12,
   "metadata": {},
   "outputs": [],
   "source": [
    "dbeta = 0.01\n",
    "\n",
    "\n",
    "# the amplitude of grid\n",
    "x_amplitude = 100.\n",
    "\n",
    "x_grid_dim = 1024\n",
    "\n",
    "def v(x):\n",
    "    \"\"\"\n",
    "    Potential energy\n",
    "    \"\"\"\n",
    "    #return -1. / np.sqrt(x ** 2 + 1.37)\n",
    "    return  1e-2 * x ** 4 / 4\n",
    "\n",
    "def force(x):\n",
    "    \"\"\"\n",
    "    minus the derivative of the potential energy\n",
    "    \"\"\"\n",
    "    #return x * (x ** 2 + 1.37) ** (-1.5)\n",
    "    return 1e-2 * x ** 3"
   ]
  },
  {
   "cell_type": "code",
   "execution_count": 13,
   "metadata": {},
   "outputs": [],
   "source": [
    "\n",
    "\n",
    "# get coordinate step size\n",
    "dx = 2. * x_amplitude / x_grid_dim\n",
    "\n",
    "# generate coordinate range\n",
    "x = (np.arange(x_grid_dim) - x_grid_dim / 2) *dx\n",
    "\n",
    "# generate momentum range as it corresponds to FFT frequencies\n",
    "p = (np.arange(x_grid_dim) - x_grid_dim / 2) * (np.pi / x_amplitude)"
   ]
  },
  {
   "cell_type": "code",
   "execution_count": 14,
   "metadata": {},
   "outputs": [],
   "source": [
    "def get_exact_energies(v):\n",
    "    \n",
    "    k = np.arange(x_grid_dim)\n",
    "    \n",
    "    # 2D array of alternating signs\n",
    "    minus = (-1) ** (k[:, np.newaxis] + k[np.newaxis, :])\n",
    "    \n",
    "    \n",
    "    # Construct the momentum dependent part\n",
    "    hamiltonian = np.diag(0.5 * p ** 2)\n",
    "    \n",
    "    hamiltonian *= minus\n",
    "    hamiltonian = fftpack.fft(hamiltonian, axis=1, overwrite_x=True)\n",
    "    hamiltonian = fftpack.ifft(hamiltonian, axis=0, overwrite_x=True)\n",
    "    hamiltonian *= minus\n",
    "\n",
    "    # Add diagonal potential energy\n",
    "    hamiltonian += np.diag(v(x))\n",
    "    \n",
    "    return linalg.eigvalsh(hamiltonian)"
   ]
  },
  {
   "cell_type": "code",
   "execution_count": 15,
   "metadata": {},
   "outputs": [],
   "source": [
    "def get_energy_ga(*, v, force, nsteps=1000):\n",
    "    \n",
    "    # initial guess for the wave function\n",
    "    wavefunction = np.exp(-(x - 0.1) ** 2)\n",
    "    \n",
    "    # pre-calculate imaginary time exponents of the potential and kinetic energy\n",
    "    img_exp_v = (-1) ** np.arange(wavefunction.size) * np.exp(-0.5 * dbeta * v(x))\n",
    "    \n",
    "    img_exp_k = np.exp(-dbeta * p ** 2 / 2)\n",
    "    \n",
    "    force = force(x)\n",
    "    \n",
    "    # \n",
    "    average_force = []\n",
    "    average_x = []\n",
    "    \n",
    "    for _ in range(nsteps):\n",
    "        #################################################################################\n",
    "        #\n",
    "        #   Make an imaginary time step\n",
    "        #\n",
    "        #################################################################################\n",
    "        wavefunction *= img_exp_v\n",
    "\n",
    "        # going to the momentum representation\n",
    "        wavefunction = fftpack.fft(wavefunction, overwrite_x=True)\n",
    "        wavefunction *= img_exp_k\n",
    "\n",
    "        # going back to the coordinate representation\n",
    "        wavefunction = fftpack.ifft(wavefunction, overwrite_x=True)\n",
    "        wavefunction *= img_exp_v\n",
    "\n",
    "        # normalize\n",
    "        wavefunction /= linalg.norm(wavefunction) * np.sqrt(dx)\n",
    "        \n",
    "        #################################################################################\n",
    "        #\n",
    "        #   Get averages\n",
    "        #\n",
    "        #################################################################################\n",
    "        density = np.abs(wavefunction) ** 2\n",
    "        \n",
    "        average_force.append(\n",
    "            np.sum(density * force) * dx\n",
    "        )\n",
    "\n",
    "        average_x.append(\n",
    "            np.sum(density * x) * dx\n",
    "        )\n",
    "    \n",
    "    return np.array(average_x), np.array(average_force)"
   ]
  },
  {
   "cell_type": "code",
   "execution_count": 16,
   "metadata": {},
   "outputs": [],
   "source": [
    "average_x, average_force = get_energy_ga(v=v, force=force)\n",
    "\n",
    "exat_enegries = get_exact_energies(v)"
   ]
  },
  {
   "cell_type": "code",
   "execution_count": 17,
   "metadata": {},
   "outputs": [
    {
     "data": {
      "text/plain": [
       "[<matplotlib.lines.Line2D at 0x11efd5e50>]"
      ]
     },
     "execution_count": 17,
     "metadata": {},
     "output_type": "execute_result"
    },
    {
     "data": {
      "image/png": "[encoded data removed]",
      "text/plain": [
       "<Figure size 640x480 with 1 Axes>"
      ]
     },
     "metadata": {},
     "output_type": "display_data"
    }
   ],
   "source": [
    "plt.semilogy(average_x)\n",
    "plt.semilogy(average_force)"
   ]
  },
  {
   "cell_type": "code",
   "execution_count": 18,
   "metadata": {},
   "outputs": [
    {
     "data": {
      "text/plain": [
       "[<matplotlib.lines.Line2D at 0x11f8ab670>]"
      ]
     },
     "execution_count": 18,
     "metadata": {},
     "output_type": "execute_result"
    },
    {
     "data": {
      "image/png": "[encoded data removed]",
      "text/plain": [
       "<Figure size 640x480 with 1 Axes>"
      ]
     },
     "metadata": {},
     "output_type": "display_data"
    }
   ],
   "source": [
    "plt.plot(average_force / average_x )"
   ]
  },
  {
   "cell_type": "code",
   "execution_count": 19,
   "metadata": {},
   "outputs": [
    {
     "data": {
      "text/plain": [
       "0.23420779083693938"
      ]
     },
     "execution_count": 19,
     "metadata": {},
     "output_type": "execute_result"
    }
   ],
   "source": [
    "(exat_enegries[1] - exat_enegries[0]) "
   ]
  },
  {
   "cell_type": "code",
   "execution_count": 20,
   "metadata": {},
   "outputs": [
    {
     "data": {
      "text/plain": [
       "0.05465487475052283"
      ]
     },
     "execution_count": 20,
     "metadata": {},
     "output_type": "execute_result"
    }
   ],
   "source": [
    "(average_force / average_x)[-1]"
   ]
  },
  {
   "cell_type": "code",
   "execution_count": null,
   "metadata": {},
   "outputs": [],
   "source": []
  }
 ],
 "metadata": {
  "kernelspec": {
   "display_name": "Python 3 (ipykernel)",
   "language": "python",
   "name": "python3"
  },
  "language_info": {
   "codemirror_mode": {
    "name": "ipython",
    "version": 3
   },
   "file_extension": ".py",
   "mimetype": "text/x-python",
   "name": "python",
   "nbconvert_exporter": "python",
   "pygments_lexer": "ipython3",
   "version": "3.9.13"
  }
 },
 "nbformat": 4,
 "nbformat_minor": 1
}

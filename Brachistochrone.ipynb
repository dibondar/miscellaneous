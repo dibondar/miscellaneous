{
 "cells": [
  {
   "cell_type": "markdown",
   "id": "465448aa",
   "metadata": {},
   "source": [
    "## Brachistochrone Problem via [JuMP](https://jump.dev/) and [NLopt](https://github.com/JuliaOpt/NLopt.jl)\n",
    "\n",
    "According to Eq. (8) in [here](https://mathworld.wolfram.com/BrachistochroneProblem.html), we need to minimize\n",
    "$$\n",
    "    T = \\int_{P_1}^{P_2} \\sqrt{\\frac{1 + (y'(x))^2}{2g y(x)}} dx,\n",
    "$$\n",
    "where $P_{1, 2}$ are fixed points. Which is different from what you had. Using the rectangular rule, we get\n",
    "\n",
    "$$\n",
    "    T \\approx \\Delta x \\left( \n",
    "        \\sqrt{\\frac{1 + (y'(x_0))^2}{2g y(x_0)}} \n",
    "        + \\sum_{k=1}^{n-1} \\sqrt{\\frac{1 + (y'(x_k))^2}{2g y(x_k)}}\n",
    "        + \\sqrt{\\frac{1 + (y'(x_n))^2}{2g y(x_n)}} \n",
    "    \\right).\n",
    "$$\n",
    "\n",
    "Using the finite difference, \n",
    "\n",
    "$$\n",
    "   T \\approx \\Delta x \\left( \n",
    "        \\sqrt{\\frac{1 + (y'(x_0))^2}{2g y(x_0)}} \n",
    "        + \\sum_{k=1}^{n-1} \\sqrt{\\frac{1 + (y'(x_k))^2}{2g y(x_k)}}\n",
    "        + \\sqrt{\\frac{1 + (y'(x_n))^2}{2g y(x_n)}} \n",
    "    \\right)\n",
    "$$\n",
    "\n",
    "Using the finite difference, \n",
    "\n",
    "$$\n",
    "   T \\approx \\Delta x \\left( \n",
    "        \\sqrt{\\frac{1 + [y(x_0) - y(x_1)]^2 / \\Delta x^2}{2g y(x_0)}} \n",
    "        + \\sum_{k=1}^{n-1} \\sqrt{\\frac{1 + [y(x_k) - y(x_{k-1})]^2  / \\Delta x^2}{2g y(x_k)}}\n",
    "        + \\sqrt{\\frac{1 + [y(x_n) - y(x_{n-1})]^2 / \\Delta x^2}{2g y(x_n)}} \n",
    "    \\right)\n",
    "$$\n",
    "$$\n",
    "   = \\Delta x \\left( \n",
    "        \\sqrt{\\frac{1 + [y(x_0) - y(x_1)]^2 / \\Delta x^2}{2g y(x_0)}} \n",
    "        + \\sqrt{\\frac{1 + [y(x_0) - y(x_1)]^2 / \\Delta x^2}{2g y(x_1)}}\n",
    "        + \\sum_{k=2}^{n-1} \\sqrt{\\frac{1 + [y(x_k) - y(x_{k-1})]^2  / \\Delta x^2}{2g y(x_k)}}\n",
    "        + \\sqrt{\\frac{1 + [y(x_n) - y(x_{n-1})]^2 / \\Delta x^2}{2g y(x_n)}} \n",
    "    \\right).\n",
    "$$\n",
    "\n",
    "Hence,\n",
    "$$\n",
    "    P_1 = (x_0, y(x_0)), \\qquad P_2 = (x_n, y(x_n)).\n",
    "$$\n",
    "\n",
    "We will choose $x_0 = 0$ and $y(x_0) = 1$. "
   ]
  },
  {
   "cell_type": "code",
   "execution_count": 109,
   "id": "26222c79",
   "metadata": {},
   "outputs": [
    {
     "data": {
      "text/plain": [
       "T (generic function with 1 method)"
      ]
     },
     "execution_count": 109,
     "metadata": {},
     "output_type": "execute_result"
    }
   ],
   "source": [
    "# number of points\n",
    "n = 100\n",
    "\n",
    "const g = 9.81\n",
    "\n",
    "x = range(0, 11, n + 1)\n",
    "dx = x[2] - x[1]\n",
    "\n",
    "y_end = 3\n",
    "\n",
    "function T(y...)\n",
    "    integral = sqrt(\n",
    "        (1 + (1 - y[1]) ^ 2 / dx ^2) / (2 * g)\n",
    "    ) \n",
    "    + \n",
    "    sqrt(\n",
    "        (1 + (1 - y[1]) ^ 2 / dx ^2) / (2 * g * y[1])\n",
    "    )\n",
    "    \n",
    "    integral += sum(\n",
    "        sqrt(\n",
    "            (1 + (y[k] - y[k - 1]) ^ 2 / dx ^2) / (2 * g * y[k])\n",
    "        )\n",
    "        for k = 2:length(y)\n",
    "    )\n",
    "    \n",
    "    integral += sqrt(\n",
    "        (1 + (y_end - y[end]) ^ 2 / dx ^2) / (2 * g * y_end)\n",
    "    )\n",
    "    \n",
    "    return integral\n",
    "end"
   ]
  },
  {
   "cell_type": "code",
   "execution_count": 110,
   "id": "13277949",
   "metadata": {},
   "outputs": [],
   "source": [
    "using JuMP\n",
    "using NLopt\n",
    "\n",
    "model = Model(NLopt.Optimizer)\n",
    "\n",
    "@variable(model, y[1:n-1])\n",
    "\n",
    "y_init_guess = range(1, y_end, n + 1)\n",
    "for k = 1:length(y)\n",
    "    set_start_value(y[k], y_init_guess[k])\n",
    "end\n",
    "\n",
    "register(model, :T, length(y), T; autodiff = true)\n",
    "\n",
    "@NLobjective(model, Min, T(y...))\n",
    "\n",
    "set_optimizer_attribute(model, \"algorithm\", :LD_TNEWTON_PRECOND)\n",
    "\n",
    "JuMP.optimize!(model)"
   ]
  },
  {
   "cell_type": "code",
   "execution_count": 111,
   "id": "22dd7954",
   "metadata": {},
   "outputs": [
    {
     "data": {
      "image/png": "[encoded data removed]",
      "text/plain": [
       "Figure(PyObject <Figure size 640x480 with 1 Axes>)"
      ]
     },
     "metadata": {},
     "output_type": "display_data"
    }
   ],
   "source": [
    "using PyPlot\n",
    "\n",
    "plot(x, [1; map(value, y); y_end], \"*-\")\n",
    "xlabel(\"x\")\n",
    "ylabel(\"y\")\n",
    "show()"
   ]
  }
 ],
 "metadata": {
  "kernelspec": {
   "display_name": "Julia 1.8.5",
   "language": "julia",
   "name": "julia-1.8"
  },
  "language_info": {
   "file_extension": ".jl",
   "mimetype": "application/julia",
   "name": "julia",
   "version": "1.8.5"
  }
 },
 "nbformat": 4,
 "nbformat_minor": 5
}
